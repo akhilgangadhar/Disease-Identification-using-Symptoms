{
 "cells": [
  {
   "cell_type": "code",
   "execution_count": 1,
   "metadata": {
    "collapsed": true
   },
   "outputs": [],
   "source": [
    "import sqlite3\n",
    "import pandas as pd\n",
    "conn = sqlite3.connect('C:/Users/AKHIL/Desktop/scrapper/diseases.db')\n",
    "c = conn.cursor()\n",
    "df = pd.read_sql_query('SELECT * FROM diseases',conn);"
   ]
  },
  {
   "cell_type": "code",
   "execution_count": 2,
   "metadata": {
    "collapsed": true
   },
   "outputs": [],
   "source": [
    "from nltk.corpus import stopwords\n",
    "from nltk.tokenize import word_tokenize\n",
    "import nltk\n",
    "from nltk.stem import PorterStemmer\n",
    "ps = PorterStemmer()"
   ]
  },
  {
   "cell_type": "code",
   "execution_count": 3,
   "metadata": {},
   "outputs": [],
   "source": [
    "stop_words = stopwords.words('english')\n",
    "stop_words = set(stop_words)\n",
    "stop_words.add('(')\n",
    "stop_words.add(')')\n",
    "stop_words.add(':')\n",
    "stop_words.add(',')\n",
    "stop_words.add('.')\n",
    "stop_words.add('a')\n",
    "stop_words.add('the')\n",
    "stop_words.add('you')\n",
    "stop_words.add('may')\n",
    "stop_words.add('symptoms')\n",
    "stop_words.add('an')\n",
    "stop_words.add('so')\n",
    "stop_words.add('include')\n",
    "stop_words = list(stop_words)"
   ]
  },
  {
   "cell_type": "code",
   "execution_count": 4,
   "metadata": {},
   "outputs": [],
   "source": [
    "st_lis = []\n",
    "all_words = []\n",
    "for row in df[\"Symptoms\"]:\n",
    "    words = word_tokenize(row)\n",
    "    words = set(words)\n",
    "    words = [word.lower() for word in words]\n",
    "    words = [word for word in words if not word in stop_words]\n",
    "    all_words = all_words + words\n",
    "    s = ''\n",
    "    for word in words:\n",
    "        s = s + word + ' '\n",
    "    st_lis.append(s)\n",
    "    "
   ]
  },
  {
   "cell_type": "code",
   "execution_count": 5,
   "metadata": {},
   "outputs": [],
   "source": [
    "weights = nltk.FreqDist(all_words)"
   ]
  },
  {
   "cell_type": "code",
   "execution_count": 6,
   "metadata": {},
   "outputs": [],
   "source": [
    "symptoms = pd.Series(st_lis)"
   ]
  },
  {
   "cell_type": "code",
   "execution_count": 7,
   "metadata": {},
   "outputs": [],
   "source": [
    "df = df.drop([\"Symptoms\"],axis=1)"
   ]
  },
  {
   "cell_type": "code",
   "execution_count": 8,
   "metadata": {},
   "outputs": [],
   "source": [
    "df[\"Symptoms\"] = symptoms"
   ]
  },
  {
   "cell_type": "code",
   "execution_count": 9,
   "metadata": {},
   "outputs": [],
   "source": [
    "df = pd.concat([df,df['Symptoms'].str.get_dummies(sep=' ')],axis=1)"
   ]
  },
  {
   "cell_type": "code",
   "execution_count": 10,
   "metadata": {},
   "outputs": [],
   "source": [
    "u = list(df.columns)"
   ]
  },
  {
   "cell_type": "code",
   "execution_count": 11,
   "metadata": {},
   "outputs": [],
   "source": [
    "x = u[0:33]"
   ]
  },
  {
   "cell_type": "code",
   "execution_count": 12,
   "metadata": {},
   "outputs": [],
   "source": [
    "for r in x:\n",
    "    u.remove(r)"
   ]
  },
  {
   "cell_type": "code",
   "execution_count": 13,
   "metadata": {},
   "outputs": [],
   "source": [
    "X = pd.DataFrame(df,columns = u)\n",
    "for f in u:\n",
    "    X[f] = X[f]*(1/weights[f])"
   ]
  },
  {
   "cell_type": "code",
   "execution_count": 14,
   "metadata": {},
   "outputs": [],
   "source": [
    "from sklearn.neighbors import NearestNeighbors\n",
    "nbrs = NearestNeighbors(n_neighbors=10, algorithm='auto', metric='euclidean').fit(X)"
   ]
  },
  {
   "cell_type": "code",
   "execution_count": 23,
   "metadata": {},
   "outputs": [
    {
     "name": "stdout",
     "output_type": "stream",
     "text": [
      "[[ 0.          1.2647138   1.34504627  1.41990437  1.71835317  1.71936369\n",
      "   1.73578201  1.78201267  1.82725114  1.8559305 ]]\n",
      "[ 26 102  69 110  84  35   7  78 118  55]\n"
     ]
    }
   ],
   "source": [
    "xtest = X.iloc[26]\n",
    "xtest = xtest.values.reshape(1, -1)\n",
    "distances, indices = nbrs.kneighbors(xtest)\n",
    "print(distances)\n",
    "print(indices[0][:])"
   ]
  },
  {
   "cell_type": "code",
   "execution_count": 24,
   "metadata": {},
   "outputs": [],
   "source": [
    "top_similar_diseases = [df.iloc[indice][\"Name\"] for indice in indices[0][:]]"
   ]
  },
  {
   "cell_type": "code",
   "execution_count": 25,
   "metadata": {},
   "outputs": [
    {
     "data": {
      "text/plain": [
       "['Bone cancer',\n",
       " 'Broken heart syndrome',\n",
       " 'Heartburn',\n",
       " 'Stomach polyps',\n",
       " 'Dislocated elbow',\n",
       " 'Microscopic colitis',\n",
       " 'Astigmatism',\n",
       " 'Ovarian cancer',\n",
       " 'Severe acute respiratory syndrome (SARS)',\n",
       " 'Sudden cardiac arrest']"
      ]
     },
     "execution_count": 25,
     "metadata": {},
     "output_type": "execute_result"
    }
   ],
   "source": [
    "top_similar_diseases"
   ]
  },
  {
   "cell_type": "code",
   "execution_count": 18,
   "metadata": {},
   "outputs": [
    {
     "data": {
      "text/plain": [
       "'swelling broken fatigue loss unintended bone near weight signs area pain tenderness cancer affected bone '"
      ]
     },
     "execution_count": 18,
     "metadata": {},
     "output_type": "execute_result"
    }
   ],
   "source": [
    "df.iloc[26][\"Symptoms\"]"
   ]
  },
  {
   "cell_type": "code",
   "execution_count": 22,
   "metadata": {},
   "outputs": [
    {
     "data": {
      "text/plain": [
       "'swollen often 39 skin elsewhere disease trunk lips swollen perhaps higher eyes conjunctivitis nodes 102.2 usually c without genital phases lasts extremely days extremely kawasaki part rash strawberry cracked dry neck tongue area f palms fever body discharge red three hands feet red lymph appear thick main soles irritability '"
      ]
     },
     "execution_count": 22,
     "metadata": {},
     "output_type": "execute_result"
    }
   ],
   "source": [
    "df.iloc[20][\"Symptoms\"]"
   ]
  },
  {
   "cell_type": "code",
   "execution_count": null,
   "metadata": {},
   "outputs": [],
   "source": []
  },
  {
   "cell_type": "code",
   "execution_count": null,
   "metadata": {},
   "outputs": [],
   "source": []
  },
  {
   "cell_type": "code",
   "execution_count": null,
   "metadata": {},
   "outputs": [],
   "source": []
  },
  {
   "cell_type": "code",
   "execution_count": null,
   "metadata": {},
   "outputs": [],
   "source": []
  },
  {
   "cell_type": "code",
   "execution_count": null,
   "metadata": {
    "collapsed": true
   },
   "outputs": [],
   "source": []
  }
 ],
 "metadata": {
  "kernelspec": {
   "display_name": "Python 3",
   "language": "python",
   "name": "python3"
  },
  "language_info": {
   "codemirror_mode": {
    "name": "ipython",
    "version": 3
   },
   "file_extension": ".py",
   "mimetype": "text/x-python",
   "name": "python",
   "nbconvert_exporter": "python",
   "pygments_lexer": "ipython3",
   "version": "3.6.3"
  }
 },
 "nbformat": 4,
 "nbformat_minor": 2
}
